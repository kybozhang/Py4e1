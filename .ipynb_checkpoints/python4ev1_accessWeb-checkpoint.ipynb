{
 "cells": [
  {
   "cell_type": "markdown",
   "metadata": {},
   "source": [
    "# Python4ev1: access web data\n",
    "\n",
    "## Table of contents\n",
    "1. [Regular expression](#regex)\n",
    "2. [Class](#class) :\n",
    "    - a. [Class/instand attributes](#cls_attr)\n",
    "    - b. [Class/static methods](#cls_mtd)\n",
    "    - c. [Subclass/inheritance](#cls_inh)\n",
    "    - d. [Customize using special methods](#cls_sp)\n",
    "    - e. [Property Ssetter](#cls_pro)\n",
    "3. [Network and sockets](#socket)\n",
    "4. [Programs for web surfing](#surfing) : [\\[Urllib\\]](#urllib) - [\\[BeautifulSoup\\]](#bsoup)\n",
    "5. [Web service and XML](#xml) : [\\[Parsing\\]](#xml_parse)\n",
    "6. [JSON and REST architecture](#json) : [\\[Geocode-JSON](#geojson)[|-XML\\]](#geoxml) - [\\[Twitter-API\\]](#twitter)\n",
    "\n",
    "``\n",
    ". [](#)\n",
    "<a name= ''></a>"
   ]
  },
  {
   "cell_type": "markdown",
   "metadata": {},
   "source": [
    "## 1. Regular expression <a name= 'regex'></a>\n",
    "\n",
    "- `^`   start of a string  but inside square brackets means not\n",
    "- `$`   end ...\n",
    "- `.`   any CHARACTER [inside square brackets means just the dot symbol '.']\n",
    "- `\\s`  white space\n",
    "- `\\S`  any NON-white spece character\n",
    "- `\\w`  any letter or digit [A-z0-9]\n",
    "- `\\W`  any non-letter nor digit [^A-z0-9]\n",
    "- `\\d`  any digit [0-9]\n",
    "- `\\D`  any non-digit [^0-9]  \n",
    "    Be careful in regex A-Z is put before a-z, but in python A-Z < a-z\n",
    "\n",
    "Greedy: e.g. the regex `\".*\"` (including quotation marks) will match \"Hi,\" he says, \"how are you?\"\n",
    "the entitre sentense because that is the maximum.\n",
    "\n",
    "- `*`   repeat a character {0,infinity} (greedy, match as long a sequence as it can)\n",
    "- `*?`  repeat a character {0,infinity} (non-greedy, can stop at the minimum sequence)\n",
    "- `+`   repeat a character {1,infinity} (greedy, match as long a sequence as it can)\n",
    "- `+?`  repeat a character {1,infinity} (non-greedy, , can stop at the minimum sequence)\n",
    "- `?`   repeat a character {0,1} time\n",
    "- `{n}` repeat a character {n} times\n",
    "- `{m,n}`  repeat a character {m,n} (given m < n)\n",
    "\n",
    "- `[abc]`   match a characters in the set\n",
    "- `[^XYZ]`  match a characters NOT in the set\n",
    "- `[a-Z0-9]`   match a characters in the alphabet and digit set  \n",
    "    Be noted: in Python str 0-9 < A-Z < a-z, but __in RegEx a-z < A-Z__\n",
    "- `()`      indicating the range of sequence extraction (not a subexpression for commonly used regex)\n",
    "- => `(at|on)`  march 'at' or 'on' <= __this is not ttue for python re library__"
   ]
  },
  {
   "cell_type": "code",
   "execution_count": 1,
   "metadata": {},
   "outputs": [
    {
     "name": "stdout",
     "output_type": "stream",
     "text": [
      "X-Sieve: CMU Sieve 2.3\n",
      "X-Authentication-Warning: nakamura.uits.iupui.edu: apache set sender to stephen.marquard@uct.ac.za using -f\n",
      "X-Content-Type-Outer-Envelope: text/plain; charset=UTF-8\n",
      "X-Content-Type-Message-Body: text/plain; charset=UTF-8\n",
      "X-DSPAM-Result: Innocent\n",
      "X-DSPAM-Processed: Sat Jan  5 09:14:16 2008\n",
      "X-DSPAM-Confidence: 0.8475\n",
      "X-DSPAM-Probability: 0.0000\n",
      "X-Sieve: CMU Sieve 2.3\n",
      "X-Authentication-Warning: nakamura.uits.iupui.edu: apache set sender to louis@media.berkeley.edu using -f\n",
      "['umich.edu', 'iupui.edu', 'umich.edu', 'iupui.edu', 'iupui.edu', 'iupui.edu', 'umich.edu', 'umich.edu', 'umich.edu', 'umich.edu']\n"
     ]
    }
   ],
   "source": [
    "import re\n",
    "fh = open('mbox.txt','r')\n",
    "# regex library\n",
    "\n",
    "count = 0\n",
    "# similar to find() but with regex <re.find> function\n",
    "for i in fh:\n",
    "    if count >= 10:\n",
    "        break\n",
    "    if re.search('^X-\\S+:', i):\n",
    "        #print any line contains the regex pattern \n",
    "        print(i, end='')\n",
    "        count += 1\n",
    "\n",
    "# find() and slice to extract the matched sequences and return them as a list\n",
    "temp = list()\n",
    "for i in fh:\n",
    "    # match the 'From'<email address>' pattern but only __extract the affiliate part__\n",
    "    y = re.findall('^From \\S+@(\\S+)', i)\n",
    "    # one line may contain __nultiple email addresses__, thus `finadall`\n",
    "    if y not in temp:\n",
    "        temp.extend(y)\n",
    "        # extend the list (append each item in the iterable one by one to the list)\n",
    "\n",
    "print(temp[:10])\n"
   ]
  },
  {
   "cell_type": "markdown",
   "metadata": {},
   "source": [
    "## 2. Class <a name='class'></a>\n",
    "\n",
    "### 2a. Class attributes <a name='cls_attr'></a>\n",
    "\n",
    "Inside `__init__` - instance/objext attributes;  \n",
    "outside of `__init__` - class attributes:  \n",
    "Use `__dict__` to display instance/class attributes/methods, and use `help()` to display inheritance."
   ]
  },
  {
   "cell_type": "code",
   "execution_count": 2,
   "metadata": {},
   "outputs": [
    {
     "name": "stdout",
     "output_type": "stream",
     "text": [
      "{'instanceAttr': 1}\n",
      "{'__module__': '__main__', 'classAttr': 0, '__init__': <function Example.__init__ at 0x000001F04768C840>, '__dict__': <attribute '__dict__' of 'Example' objects>, '__weakref__': <attribute '__weakref__' of 'Example' objects>, '__doc__': None}\n",
      "Help on Example in module __main__ object:\n",
      "\n",
      "class Example(builtins.object)\n",
      " |  Example(instanceAttr)\n",
      " |  \n",
      " |  Methods defined here:\n",
      " |  \n",
      " |  __init__(self, instanceAttr)\n",
      " |      Initialize self.  See help(type(self)) for accurate signature.\n",
      " |  \n",
      " |  ----------------------------------------------------------------------\n",
      " |  Data descriptors defined here:\n",
      " |  \n",
      " |  __dict__\n",
      " |      dictionary for instance variables (if defined)\n",
      " |  \n",
      " |  __weakref__\n",
      " |      list of weak references to the object (if defined)\n",
      " |  \n",
      " |  ----------------------------------------------------------------------\n",
      " |  Data and other attributes defined here:\n",
      " |  \n",
      " |  classAttr = 0\n",
      "\n"
     ]
    }
   ],
   "source": [
    "class Example:\n",
    "    classAttr = 0\n",
    "    def __init__(self, instanceAttr):\n",
    "        self.instanceAttr = instanceAttr\n",
    "\n",
    "#create instance of the Example class\n",
    "a = Example(1)\n",
    "# .__dict__ function displays the attributes of the object \n",
    "print(a.__dict__)\n",
    "print(Example.__dict__)\n",
    "\n",
    "# help shows the internal methods and attributes of an object\n",
    "help(a)"
   ]
  },
  {
   "cell_type": "markdown",
   "metadata": {},
   "source": [
    "If not maintained carefully (explicitly), class attributes can be overriden by instance attributes of the same name, causing confusion. Private attributes use single underscore `_priveteAttr` in convention."
   ]
  },
  {
   "cell_type": "code",
   "execution_count": 3,
   "metadata": {},
   "outputs": [
    {
     "name": "stdout",
     "output_type": "stream",
     "text": [
      "{'instanceAttr': 2}\n",
      "{'__module__': '__main__', 'classAttr': 0, '__init__': <function Example.__init__ at 0x000001F04768C840>, '__dict__': <attribute '__dict__' of 'Example' objects>, '__weakref__': <attribute '__weakref__' of 'Example' objects>, '__doc__': None}\n",
      "{'instanceAttr': 2, 'classAttr': 653}\n"
     ]
    },
    {
     "data": {
      "text/plain": [
       "mappingproxy({'__module__': '__main__',\n",
       "              'classAttr': 0,\n",
       "              '__init__': <function __main__.Example.__init__(self, instanceAttr)>,\n",
       "              '__dict__': <attribute '__dict__' of 'Example' objects>,\n",
       "              '__weakref__': <attribute '__weakref__' of 'Example' objects>,\n",
       "              '__doc__': None})"
      ]
     },
     "execution_count": 3,
     "metadata": {},
     "output_type": "execute_result"
    }
   ],
   "source": [
    "b = Example(2)\n",
    "print(b.__dict__)\n",
    "print(Example.__dict__)\n",
    "\n",
    "#if we specificly change the classAttr for instance b\n",
    "b.classAttr = 653\n",
    "print(b.__dict__)\n",
    "#see now an instance 'classAttr' is added to b while the class 'classAttr' remain unchanged;\n",
    "Example.__dict__"
   ]
  },
  {
   "cell_type": "markdown",
   "metadata": {},
   "source": [
    "### 2b. Class/static methods <a name='cls_mtd'></a>\n",
    "\n",
    "Use `@classmethod` and `@staticmethod` decorator to define function."
   ]
  },
  {
   "cell_type": "code",
   "execution_count": 19,
   "metadata": {},
   "outputs": [],
   "source": [
    "class Employer:\n",
    "    _count = 0 #try to make a private cls var\n",
    "    raiseRate = 1.03\n",
    "    \n",
    "    def __init__(self, fn, ln): #initializing\n",
    "        self.first = fn.strip(' ').capitalize()\n",
    "        self.last = ln.strip(' ').capitalize()\n",
    "        self._count += 1 #add counter\n",
    "    \n",
    "    #Regular functions\n",
    "    def fullname(self):\n",
    "        return self.first+' '+self.last\n",
    "    \n",
    "    def email(self):\n",
    "        return self.first.lower()+'.'+self.last.lower()+'@company.com'\n",
    "    \n",
    "    #Class methods\n",
    "    @classmethod #uses cls instead of self\n",
    "    def detRaiseRate(cls, rate): \n",
    "        cls.raiseRate = rate #usually work with cls vars\n",
    "    \n",
    "    @classmethod #As alternative constructor\n",
    "    def  from_fullname(cls, fulln):\n",
    "        fn, ln = fulln.strip(' ').split(' ')\n",
    "        return cls(fn, ln) #this will call cls.__init__\n",
    "    \n",
    "    #Static methods\n",
    "    @staticmethod #no cls/self related number passed in\n",
    "    def alterEmail(alias):\n",
    "        return alias.strip(' ').lower()+'@company,com'"
   ]
  },
  {
   "cell_type": "code",
   "execution_count": 16,
   "metadata": {},
   "outputs": [
    {
     "name": "stdout",
     "output_type": "stream",
     "text": [
      "John Smith\n",
      "john.smith@company.com\n",
      "Tom Hanks\n",
      "tom.hanks@company.com\n"
     ]
    },
    {
     "data": {
      "text/plain": [
       "1"
      ]
     },
     "execution_count": 16,
     "metadata": {},
     "output_type": "execute_result"
    }
   ],
   "source": [
    "emp1 = Employer('john', 'smith') #test1\n",
    "print(emp1.fullname())\n",
    "print(emp1.email())\n",
    "\n",
    "emp2 = Employer('TOM   ', '  haNks') #test2 with mis-formated inputs\n",
    "print(emp2.fullname())\n",
    "print(emp2.email())\n",
    "\n",
    "emp1._count #count"
   ]
  },
  {
   "cell_type": "markdown",
   "metadata": {},
   "source": [
    "Class methods is commonly used as alternative way of using a regular function (such as constructor)."
   ]
  },
  {
   "cell_type": "code",
   "execution_count": 20,
   "metadata": {
    "scrolled": true
   },
   "outputs": [
    {
     "name": "stdout",
     "output_type": "stream",
     "text": [
      "Julia Jones\n",
      "1\n"
     ]
    },
    {
     "data": {
      "text/plain": [
       "'jully@company,com'"
      ]
     },
     "execution_count": 20,
     "metadata": {},
     "output_type": "execute_result"
    }
   ],
   "source": [
    "emp3 = Employer.from_fullname(\"  Julia jONes\")\n",
    "print(emp3.fullname())\n",
    "print(emp3._count)\n",
    "\n",
    "\n",
    "Employer.alterEmail('Jully')"
   ]
  },
  {
   "cell_type": "markdown",
   "metadata": {},
   "source": [
    "### 2c. Subclass and inheritance <a name='cls_inh'></a>\n",
    "\n",
    "If an attr/mtd is not presented in the current class, python will loop through all the higher levels to access anything with the same name. Therefore lower level attr/mtd has higher priority than the parental ones (override).\n",
    "\n",
    "You can use `super().` to access the parent level."
   ]
  },
  {
   "cell_type": "code",
   "execution_count": 32,
   "metadata": {},
   "outputs": [
    {
     "name": "stdout",
     "output_type": "stream",
     "text": [
      "Alan West uses Java with a raise rate of 1.06.\n",
      "True\n"
     ]
    },
    {
     "data": {
      "text/plain": [
       "True"
      ]
     },
     "execution_count": 32,
     "metadata": {},
     "output_type": "execute_result"
    }
   ],
   "source": [
    "#MMake a subvlass\n",
    "class Programmer(Employer):\n",
    "    raiseRate = 1.06\n",
    "    \n",
    "    def __init__(self, fn, ln, lang): #initializing\n",
    "        super().__init__(fn, ln) #access parent method (don't need self)\n",
    "        self.lang = lang.strip(' ').capitalize()\n",
    " \n",
    "#ctrate new programmer\n",
    "pro1 = Programmer('alan', 'west', 'Java')\n",
    "print(\"{} uses {} with a raise rate of {}.\".format(pro1.fullname(), pro1.lang, pro1.raiseRate))\n",
    "\n",
    "#Checking inheritance\n",
    "print(issubclass(Programmer, Employer))\n",
    "isinstance(pro1, Employer)\n",
    "#help(Programmer)\n",
    "#show the inheritance"
   ]
  },
  {
   "cell_type": "markdown",
   "metadata": {},
   "source": [
    "### 2d. Special method <a name='cls_sp'></a>\n",
    "\n",
    "[Python dunder method](https://docs.python.org/3/reference/datamodel.html#special-method-names)\n",
    "\n",
    "- `__init__` : used when you create a class instance.\n",
    "- `__repr__` : return something that can be used to recreate the object \n",
    "- `__str__` : return something when you want to print the objext (will override `__repr__`)\n",
    "- `__add__` : will be called when you use the `'+'` operator\n",
    "- `__call__` : that happens when you call the class (use it like a function)"
   ]
  },
  {
   "cell_type": "code",
   "execution_count": 38,
   "metadata": {},
   "outputs": [
    {
     "name": "stdout",
     "output_type": "stream",
     "text": [
      "<bound method Employer.fullname of Manager(Adam, Wang,Market)> - Market : <bound method Employer.email of Manager(Adam, Wang,Market)>\n"
     ]
    },
    {
     "data": {
      "text/plain": [
       "Manager(Adam, Wang,Market)"
      ]
     },
     "execution_count": 38,
     "metadata": {},
     "output_type": "execute_result"
    }
   ],
   "source": [
    "#Create another subclass\n",
    "class Manager(Employer):\n",
    "    raiseRate = 1.07\n",
    "    \n",
    "    def __init__(self, fn, ln, dept): #initializing\n",
    "        super().__init__(fn, ln) #access parent method (don't need self)\n",
    "        self.dept = dept.strip(' ').capitalize()\n",
    "    \n",
    "    def __repr__(self): #representation\n",
    "        return \"Manager({}, {},{})\".format(self.first, self.last, self.dept)\n",
    "    \n",
    "    def __str__(self): #print output\n",
    "        return \"{} - {} : {}\".format(self.fullname, self.dept, self.email)\n",
    "    \n",
    "#ctrate new manager\n",
    "mng1 = Manager('Adam', 'wang', 'market')\n",
    "print(mng1)\n",
    "mng1 #jupyter will distinguish repr and str if using only class name"
   ]
  },
  {
   "cell_type": "markdown",
   "metadata": {},
   "source": [
    "### 2e. Properties and Setter/Deleter <a name='cls_pro'></a>\n",
    "\n",
    "Use `@property` to turn a method into a property (the method itself mustn't have external argument).\n",
    "Use `@PROPERTYNAME.setter` and `@PROPERTYNAME.deleter` to manipulate the property via `'='` and `del` action."
   ]
  },
  {
   "cell_type": "code",
   "execution_count": 49,
   "metadata": {},
   "outputs": [
    {
     "name": "stdout",
     "output_type": "stream",
     "text": [
      "Name deleted\n",
      "None\n",
      "Amy hubert - Hr : <bound method Employer.email of Manager(Amy, hubert,Hr)>\n"
     ]
    },
    {
     "data": {
      "text/plain": [
       "'Amy hubert'"
      ]
     },
     "execution_count": 49,
     "metadata": {},
     "output_type": "execute_result"
    }
   ],
   "source": [
    "#Modify another subclass\n",
    "class Manager(Employer):\n",
    "    raiseRate = 1.07\n",
    "    \n",
    "    def __init__(self, fn, ln, dept): #initializing\n",
    "        super().__init__(fn, ln) #access parent method (don't need self)\n",
    "        self.dept = dept.strip(' ').capitalize()\n",
    "    \n",
    "    def __repr__(self): #representation\n",
    "        return \"Manager({}, {},{})\".format(self.first, self.last, self.dept)\n",
    "    \n",
    "    def __str__(self): #print output\n",
    "        return \"{} - {} : {}\".format(self.fullname, self.dept, self.email)\n",
    "    \n",
    "    #Override the Employer fullname method\n",
    "    @property \n",
    "    def fullname(self): #now it's a property\n",
    "        return self.first+' '+self.last\n",
    "    \n",
    "    @fullname.setter #setter changes property related vars\n",
    "    def fullname(self, name):\n",
    "        fn, ln = name.strip(' ').split(' ')\n",
    "        self.first = fn\n",
    "        self.last = ln\n",
    "    \n",
    "    @fullname.deleter #deleter handles deletion\n",
    "    def fullname(self):\n",
    "        print(\"Name deleted\")\n",
    "        self.first = None\n",
    "        self.last = None\n",
    "    \n",
    "#ctrate new manager\n",
    "mng2 = Manager('Tan', 'Sue', 'HR')\n",
    "del mng2.fullname #delete the property\n",
    "print(mng2.first)\n",
    "mng2.fullname = \"Amy hubert\" #invoke the setter\n",
    "#print(Employer._count)\n",
    "print(mng2)\n",
    "\n",
    "mng2.fullname #noew its a property and can be accessed without the arguement '()'"
   ]
  },
  {
   "cell_type": "markdown",
   "metadata": {},
   "source": [
    "## 3. Network and sockets <a name='socket'></a>\n",
    "\n",
    "- TCP: transport internet protocal built upon IP (internet protocol)\n",
    "- Socket is an endpoint of a bi-directional inter-process communication flow across the internet\n",
    "- Port is a application- or process-specific software communication endpoint (like phone No. extesion):\n",
    "    - 25: incoming email\n",
    "    - 23: login\n",
    "    - 80 (TCP)/ 443(HTTPS) : web server (e.g. purdue.edu:80)\n",
    "    - 109/110 : personal mail box\n",
    "\n",
    "Python has builtin sockets support. Making socket is like dialing the phone."
   ]
  },
  {
   "cell_type": "code",
   "execution_count": null,
   "metadata": {},
   "outputs": [],
   "source": [
    "import socket\n",
    "mysoc = socket.socket(socket.AF_INET, socket.SOCK_STREAM) #Mode?\n",
    "mysoc.connect((data.pr4e.org, 80)) #Host, port"
   ]
  },
  {
   "cell_type": "markdown",
   "metadata": {},
   "source": [
    "- HTTP: hypertext transfer protocol, used to retrieve webpages (HTML, image, etc).  \n",
    "    Basic concept: make connection - request document - retrieve document - close connection.  \n",
    "    RSS built on HTTP to retrieve data in addition to documents.\n",
    "- URL : uniform resource locator (format: `PROTOCOL://HOST/DOCUMENT`)  \n",
    "    Each hyperlink contain an `href = value` to issue a `GET` request from a server  \n",
    "    `:80` - port 80\n",
    "    `?guess=12` - parameter to the url (set the 'guess/ to 12) - quarrt string parameters\n",
    "- RFCs: request for comments (all protocol developed by IETF - Internet Engineering Task Force)\n",
    "- Metadata : after `GET HOST PROTOCAL/VERSIOM` the server will send you the properties along with the document (hence metadata)\n",
    "- Status code : 200 - OK; 404 - not found; 302 - re-direct"
   ]
  },
  {
   "cell_type": "code",
   "execution_count": 52,
   "metadata": {},
   "outputs": [
    {
     "name": "stdout",
     "output_type": "stream",
     "text": [
      "HTTP/1.1 200 OK\r\n",
      "Date: Fri, 24 Jan 2020 23:02:34 GMT\r\n",
      "Server: Apache/2.4.18 (Ubuntu)\r\n",
      "Last-Modified: Sat, 13 May 2017 11:22:22 GMT\r\n",
      "ETag: \"a7-54f6609245537\"\r\n",
      "Accept-Ranges: bytes\r\n",
      "Content-Length: 167\r\n",
      "Cache-Control: max-age=0, no-cache, no-store, must-revalidate\r\n",
      "Pragma: no-cache\r\n",
      "Expires: Wed, 11 Jan 1984 05:00:00 GMT\r\n",
      "Connection: close\r\n",
      "Content-Type: text/plain\r\n",
      "\r\n",
      "But soft what light through yonder window breaks\n",
      "It is the east and Juliet is the sun\n",
      "Arise fair sun and kill the envious moon\n",
      "Who is already s\n",
      "ick and pale with grief\n",
      "\n"
     ]
    }
   ],
   "source": [
    "import socket\n",
    "mysoc = socket.socket(socket.AF_INET, socket.SOCK_STREAM) #Mode: make a dorrway\n",
    "mysoc.connect(('data.pr4e.org', 80)) #Host, port - connect\n",
    "\n",
    "#send request\n",
    "cmd = 'GET http://data.pr4e.org/romeo.txt HTTP/1.0\\r\\n\\r\\n'.encode() #code it with the protocol\n",
    "mysoc.send(cmd) \n",
    "\n",
    "#receive data\n",
    "while True:\n",
    "    data = mysoc.recv(512) #receive data in patch\n",
    "    if len(data) < 1:\n",
    "        break #end of transmittion\n",
    "    print(data.decode()) #decode the data and print\n",
    "\n",
    "mysoc.close() #close the connection"
   ]
  },
  {
   "cell_type": "markdown",
   "metadata": {},
   "source": [
    "## 4. Programs for web surfing <a name='surfing'></a>\n",
    "\n",
    "- ASCII : American standard code for information interchange (single byte caracter)\n",
    "- Unicode : multi-byte - UTF-16 (2 bytes) -> UTF-32 (4 bytes) -> __UTF-8__ (1-4 bytes, overlap with ASCII)\n",
    "\n",
    "Since Python 3, everything is in Unicode now."
   ]
  },
  {
   "cell_type": "code",
   "execution_count": 2,
   "metadata": {
    "scrolled": true
   },
   "outputs": [
    {
     "name": "stdout",
     "output_type": "stream",
     "text": [
      "48\n",
      "65\n",
      "10\n"
     ]
    }
   ],
   "source": [
    "# return the ord value of a character\n",
    "print(ord('0'))\n",
    "print(ord('A'))\n",
    "print(ord('\\n'))\n",
    "# for ASCII, number < upper < lower case"
   ]
  },
  {
   "cell_type": "code",
   "execution_count": 3,
   "metadata": {
    "scrolled": true
   },
   "outputs": [
    {
     "name": "stdout",
     "output_type": "stream",
     "text": [
      "<class 'bytes'>\n",
      "<class 'str'>\n",
      "<class 'str'>\n"
     ]
    }
   ],
   "source": [
    "x1 = b'abc' #Meaning byte string (in ACEII)\n",
    "x2 = 'abc'\n",
    "x3 = '啊'\n",
    "\n",
    "print(type(x1)) #now byte string is in ASCII\n",
    "print(type(x2))\n",
    "print(type(x3))"
   ]
  },
  {
   "cell_type": "markdown",
   "metadata": {},
   "source": [
    "The `encode()` and `decode()` in the `socket` handles string <-> byte data conversion (default= UTF08).\n",
    "\n",
    "### Using `urllib` module <a name='urllib'></a>\n",
    "Instead of using `socket` to make your customized socket, the `urllib` automatically handles it for you."
   ]
  },
  {
   "cell_type": "code",
   "execution_count": 2,
   "metadata": {
    "scrolled": true
   },
   "outputs": [
    {
     "name": "stdout",
     "output_type": "stream",
     "text": [
      "But soft what light through yonder window breaks\n",
      "It is the east and Juliet is the sun\n",
      "Arise fair sun and kill the envious moon\n",
      "Who is already sick and pale with grief\n"
     ]
    },
    {
     "data": {
      "text/plain": [
       "<http.client.HTTPMessage at 0x186afec5240>"
      ]
     },
     "execution_count": 2,
     "metadata": {},
     "output_type": "execute_result"
    }
   ],
   "source": [
    "import urllib.request, urllib.parse, urllib.error\n",
    "#the urllib module\n",
    "\n",
    "fhand = urllib.request.urlopen('http://data.pr4e.org/romeo.txt') #just like open a file\n",
    "for _ in fhand:\n",
    "    print(_.decode().strip()) #will skip the header\n",
    "    \n",
    "fhand.geturl()\n",
    "fhand.getcode() #status code\n",
    "fhand.info() #header info"
   ]
  },
  {
   "cell_type": "markdown",
   "metadata": {},
   "source": [
    "### Web scraping using BeautifulSoup <a name='bsoup'></a>\n",
    "\n",
    "Parsing of the HTML file that comes back. (__Caution__: some website may involve legal issue to be scraped)."
   ]
  },
  {
   "cell_type": "code",
   "execution_count": 1,
   "metadata": {},
   "outputs": [],
   "source": [
    "# Test HTML\n",
    "html_doc = \"\"\"\n",
    "<html><head><title>The Dormouse's story</title></head>\n",
    "<body>\n",
    "<p class=\"title\"><b>The Dormouse's story</b></p>\n",
    "\n",
    "<p class=\"story\">Once upon a time there were three little sisters; and their names were\n",
    "<a href=\"http://example.com/elsie\" class=\"sister\" id=\"link1\">Elsie</a>,\n",
    "<a href=\"http://example.com/lacie\" class=\"sister\" id=\"link2\">Lacie</a> and\n",
    "<a href=\"http://example.com/tillie\" class=\"sister\" id=\"link3\">Tillie</a>;\n",
    "and they lived at the bottom of a well.</p>\n",
    "\n",
    "<p class=\"story\">...</p>\n",
    "\"\"\""
   ]
  },
  {
   "cell_type": "code",
   "execution_count": 2,
   "metadata": {
    "scrolled": true
   },
   "outputs": [
    {
     "name": "stdout",
     "output_type": "stream",
     "text": [
      "http://example.com/elsie\n",
      "http://example.com/lacie\n",
      "http://example.com/tillie\n"
     ]
    }
   ],
   "source": [
    "from bs4 import BeautifulSoup # test bs\n",
    "soup = BeautifulSoup(html_doc, 'html.parser')\n",
    "\n",
    "# print(soup.prettify()) # print everything in format\n",
    "\n",
    "tags = soup('a') # retrienve all the hperlinks\n",
    "for tag in tags:\n",
    "    print(tag.get('href', None))"
   ]
  },
  {
   "cell_type": "markdown",
   "metadata": {},
   "source": [
    "Put everything together: urllib + BeautifulSoup. Using SSL to handle the certificate requirement."
   ]
  },
  {
   "cell_type": "code",
   "execution_count": 1,
   "metadata": {},
   "outputs": [],
   "source": [
    "import urllib.request, urllib.parse, urllib.error\n",
    "from bs4 import BeautifulSoup as bs\n",
    "import ssl # for security measuresss\n",
    "\n",
    "# ignore ssl certificate error\n",
    "ctx = ssl.create_default_context()\n",
    "ctx.check_hostname = False\n",
    "ctx.verify_mode = ssl.CERT_NONE"
   ]
  },
  {
   "cell_type": "code",
   "execution_count": 8,
   "metadata": {},
   "outputs": [
    {
     "name": "stdout",
     "output_type": "stream",
     "text": [
      "page1.htm\n"
     ]
    }
   ],
   "source": [
    "# url = input('Enter - ')\n",
    "\n",
    "# Test url (some website may have specific certificates need to be handled)\n",
    "url1 = 'http://data.pr4e.org/page1.htm'\n",
    "url2 = 'http://data.pr4e.org/page2.htm'\n",
    "\n",
    "# include context to ifnore ssl cert\n",
    "html = urllib.request.urlopen(url2, context=ctx).read() # read the entire file (not a for loop)\n",
    "soup2 = bs(html, 'html.parser') # ti's a dictionary\n",
    "\n",
    "# retrieve all the anchor tags\n",
    "tags = soup2('a')\n",
    "for tag in tags:\n",
    "    print(tag.get('href', None))\n",
    "    # print all hyperlinks"
   ]
  },
  {
   "cell_type": "markdown",
   "metadata": {},
   "source": [
    "## 5. Web service and XML  <a name='xml'></a>\n",
    "\n",
    "Web service is the wire protocol that sends data across the wire (network). Socket and Urllib are basic protocols that don't suit modern landcape (insecure). More specialized APIs to acceess the web.\n",
    "\n",
    "### XML format\n",
    "XML is an HTML style format for data transfer (standard - `<tag attr=value> text data </tag>`, or self-closing format - `<tad attr=value/>` - no text data). Flanking white space DOESN'T matter in XML scheme. The process of converting the data into/from the agreed web service format (language independent) as oppose to the internal structure on a local computer is called __serializing__ and __de-serializing__.\n",
    "\n",
    "Complex XML can be graphed as a tree with nested tag as branches, and attrs and text as leaf (end) node.\n",
    "\n",
    "### XML schema\n",
    "XML schema is the contract (existed outside of the program) to standarize and constrain the srlz and de-srlz of the XML data between systems. If an XML doc meats the specification of a schema (XML contract), it is said to __'validate'__.\n",
    "\n",
    "An XML contract is a special XML file that specify the formating of the XML data. There are sifferent schema languages to specify the schema: \n",
    "- __XSD__ - XML schema from W3C\n",
    "    - structure - xs:element, xs:sequence, xs:complexType\n",
    "    - Attr - name, type, minOccurs, maxOccurs\n",
    "    - Type - xs:string, xs:decimal, xs:data, xs:datetime (in UTC/GMT, ISO 8601)\n",
    "- ISO 8879:1986 SGML - standard generalized markup language\n",
    "- DTD - document type definition"
   ]
  },
  {
   "cell_type": "markdown",
   "metadata": {},
   "source": [
    "### Parsing XML in Python <a name='xml_parse'></a>"
   ]
  },
  {
   "cell_type": "code",
   "execution_count": 9,
   "metadata": {},
   "outputs": [
    {
     "name": "stdout",
     "output_type": "stream",
     "text": [
      "Name: Chuck\n",
      "Attr: yes\n"
     ]
    }
   ],
   "source": [
    "import xml.etree.ElementTree as et\n",
    "# three ' to include multiple lines\n",
    "data = '''\n",
    "<person>\n",
    "  <name>Chuck</name>\n",
    "  <phone type=\"intl\">\n",
    "    +1 734 303 4456\n",
    "  </phone>\n",
    "  <email hide=\"yes\" />\n",
    "</person>'''\n",
    "\n",
    "# making a tree from xml\n",
    "tree = et.fromstring(data) # will fail if xml contains syntax error\n",
    "# it sends the person object to tree, thus no need to specify 'person'\n",
    "print('Name:', tree.find('name').text) # return the text in that tag\n",
    "print('Attr:', tree.find('email').get('hide')) # get the value of the attr named hide"
   ]
  },
  {
   "cell_type": "markdown",
   "metadata": {},
   "source": [
    "If complex types /sequences are involved."
   ]
  },
  {
   "cell_type": "code",
   "execution_count": 10,
   "metadata": {},
   "outputs": [
    {
     "name": "stdout",
     "output_type": "stream",
     "text": [
      "User count: 2\n",
      "Name Chuck\n",
      "ID 001\n",
      "Attr 2\n",
      "Name Brent\n",
      "ID 009\n",
      "Attr 7\n"
     ]
    }
   ],
   "source": [
    "import xml.etree.ElementTree as et\n",
    "\n",
    "input = '''\n",
    "<stuff>\n",
    "  <users>\n",
    "    <user x=\"2\">\n",
    "      <id>001</id>\n",
    "      <name>Chuck</name>\n",
    "    </user>\n",
    "    <user x=\"7\">\n",
    "      <id>009</id>\n",
    "      <name>Brent</name>\n",
    "    </user>\n",
    "  </users>\n",
    "</stuff>'''\n",
    "\n",
    "stuff = et.fromstring(input)\n",
    "# use findall to retrieve all elements and use `/` to navigate down the tag tree\n",
    "lst = stuff.findall('users/user') # use `/` to navigate down the tag tree\n",
    "\n",
    "# len return the no. of items\n",
    "print('User count:', len(lst))\n",
    "\n",
    "# for loop to print all\n",
    "for item in lst:\n",
    "    print('Name', item.find('name').text)\n",
    "    print('ID', item.find('id').text)\n",
    "    print('Attr', item.get('x'))"
   ]
  },
  {
   "cell_type": "markdown",
   "metadata": {},
   "source": [
    "## 6. JSON and REST architecture <a name='json'></a>\n",
    "\n",
    "JSON (JavaScript Object Notation) is native to JS which is a builtin for all browsers nowadays. It's a nested list structure (object in JS or dictionary in Python). JSON doesn't distinguish text and attrs (all in kwargs). Handled using the `json` library."
   ]
  },
  {
   "cell_type": "code",
   "execution_count": 6,
   "metadata": {},
   "outputs": [
    {
     "name": "stdout",
     "output_type": "stream",
     "text": [
      "Name Chuck\n",
      "Name yes\n"
     ]
    }
   ],
   "source": [
    "import json\n",
    "\n",
    "# test json data\n",
    "data = '''\n",
    "{\n",
    "  \"name\" : \"Chuck\",\n",
    "  \"phone\" : {\n",
    "    \"type\" : \"intl\",\n",
    "    \"number\" : \"+1 734 303 4456\"\n",
    "   },\n",
    "   \"email\" : {\n",
    "     \"hide\" : \"yes\"\n",
    "   }\n",
    "}''' # JS object (nested)\n",
    "\n",
    "info = json.loads(data) # load string : return a python dictionary\n",
    "print('Name', info['name']) # access value using breacket method\n",
    "print('Name', info['email']['hide']) # like a dict"
   ]
  },
  {
   "cell_type": "markdown",
   "metadata": {},
   "source": [
    "Looping through JSON data."
   ]
  },
  {
   "cell_type": "code",
   "execution_count": 16,
   "metadata": {
    "scrolled": true
   },
   "outputs": [
    {
     "name": "stdout",
     "output_type": "stream",
     "text": [
      "User count: 2\n",
      "Name Chuck\n",
      "ID 001\n",
      "Attr 2\n",
      "Name Brent\n",
      "ID 009\n",
      "Attr 7\n"
     ]
    },
    {
     "data": {
      "text/plain": [
       "[{'id': '001', 'x': '2', 'name': 'Chuck'},\n",
       " {'id': '009', 'x': '7', 'name': 'Brent'}]"
      ]
     },
     "execution_count": 16,
     "metadata": {},
     "output_type": "execute_result"
    }
   ],
   "source": [
    "import json\n",
    "\n",
    "data = '''\n",
    "[\n",
    "  { \"id\" : \"001\",\n",
    "    \"x\" : \"2\",\n",
    "    \"name\" : \"Chuck\"\n",
    "  } ,\n",
    "  { \"id\" : \"009\",\n",
    "    \"x\" : \"7\",\n",
    "    \"name\" : \"Brent\"\n",
    "  }\n",
    "]'''\n",
    "\n",
    "info = json.loads(data) # loads will auto loop through\n",
    "print('User count:', len(info))\n",
    "\n",
    "# like the xml example\n",
    "for _ in info:\n",
    "    print(\"Name\", _['name'])\n",
    "    print(\"ID\", _['id'])\n",
    "    print(\"Attr\", _['x'])\n",
    "\n",
    "# this returns a list of dicts\n",
    "info.type()"
   ]
  },
  {
   "cell_type": "markdown",
   "metadata": {},
   "source": [
    "### Service oriented approach (APIs) <a name='json_api'></a>\n",
    "\n",
    "__API__ - application programming interface. e.g.:\n",
    "The __Google Geocode__ API. Syntax: `+` is white space, `%2C` is comma(,) etc.\n",
    "\n",
    "##### Geocode JSON  <a name='geojson'></a>"
   ]
  },
  {
   "cell_type": "code",
   "execution_count": 1,
   "metadata": {},
   "outputs": [
    {
     "name": "stdout",
     "output_type": "stream",
     "text": [
      "Retrieving http://py4e-data.dr-chuck.net/json?address=Ann+Arbor%2C+MI&key=42\n",
      "Retrieved 1736 characters\n",
      "{\n",
      "    \"results\": [\n",
      "        {\n",
      "            \"address_components\": [\n",
      "                {\n",
      "                    \"long_name\": \"Ann Arbor\",\n",
      "                    \"short_name\": \"Ann Arbor\",\n",
      "                    \"types\": [\n",
      "                        \"locality\",\n",
      "                        \"political\"\n",
      "                    ]\n",
      "                },\n",
      "                {\n",
      "                    \"long_name\": \"Washtenaw County\",\n",
      "                    \"short_name\": \"Washtenaw County\",\n",
      "                    \"types\": [\n",
      "                        \"administrative_area_level_2\",\n",
      "                        \"political\"\n",
      "                    ]\n",
      "                },\n",
      "                {\n",
      "                    \"long_name\": \"Michigan\",\n",
      "                    \"short_name\": \"MI\",\n",
      "                    \"types\": [\n",
      "                        \"administrative_area_level_1\",\n",
      "                        \"political\"\n",
      "                    ]\n",
      "                },\n",
      "                {\n",
      "                    \"long_name\": \"United States\",\n",
      "                    \"short_name\": \"US\",\n",
      "                    \"types\": [\n",
      "                        \"country\",\n",
      "                        \"political\"\n",
      "                    ]\n",
      "                }\n",
      "            ],\n",
      "            \"formatted_address\": \"Ann Arbor, MI, USA\",\n",
      "            \"geometry\": {\n",
      "                \"bounds\": {\n",
      "                    \"northeast\": {\n",
      "                        \"lat\": 42.3239728,\n",
      "                        \"lng\": -83.6758069\n",
      "                    },\n",
      "                    \"southwest\": {\n",
      "                        \"lat\": 42.222668,\n",
      "                        \"lng\": -83.799572\n",
      "                    }\n",
      "                },\n",
      "                \"location\": {\n",
      "                    \"lat\": 42.2808256,\n",
      "                    \"lng\": -83.7430378\n",
      "                },\n",
      "                \"location_type\": \"APPROXIMATE\",\n",
      "                \"viewport\": {\n",
      "                    \"northeast\": {\n",
      "                        \"lat\": 42.3239728,\n",
      "                        \"lng\": -83.6758069\n",
      "                    },\n",
      "                    \"southwest\": {\n",
      "                        \"lat\": 42.222668,\n",
      "                        \"lng\": -83.799572\n",
      "                    }\n",
      "                }\n",
      "            },\n",
      "            \"place_id\": \"ChIJMx9D1A2wPIgR4rXIhkb5Cds\",\n",
      "            \"types\": [\n",
      "                \"locality\",\n",
      "                \"political\"\n",
      "            ]\n",
      "        }\n",
      "    ],\n",
      "    \"status\": \"OK\"\n",
      "}\n",
      "lat 42.2808256 lng -83.7430378\n",
      "Ann Arbor, MI, USA\n"
     ]
    }
   ],
   "source": [
    "import urllib.request, urllib.parse, urllib.error\n",
    "import json\n",
    "import ssl\n",
    "\n",
    "api_key = False\n",
    "# If you have a Google Places API key, enter it here\n",
    "# api_key = 'AIzaSy___IDByT70'\n",
    "# https://developers.google.com/maps/documentation/geocoding/intro\n",
    "\n",
    "if api_key is False:\n",
    "    api_key = 42\n",
    "    serviceurl = 'http://py4e-data.dr-chuck.net/json?'\n",
    "else :\n",
    "    serviceurl = 'https://maps.googleapis.com/maps/api/geocode/json?'\n",
    "\n",
    "# Ignore SSL certificate errors\n",
    "ctx = ssl.create_default_context()\n",
    "ctx.check_hostname = False\n",
    "ctx.verify_mode = ssl.CERT_NONE\n",
    "\n",
    "# my test data\n",
    "address = 'Ann Arbor, MI'\n",
    "count = 0\n",
    "\n",
    "while True:\n",
    "#     address = input('Enter location: ')\n",
    "#     if len(address) < 1: break\n",
    "\n",
    "    # customized loop breaker\n",
    "    if count > 0:\n",
    "        break\n",
    "    \n",
    "    # encoding search url (pass in the address and user key)\n",
    "    parms = dict()\n",
    "    parms['address'] = address\n",
    "    if api_key is not False: parms['key'] = api_key\n",
    "    url = serviceurl + urllib.parse.urlencode(parms) # encode the address for search engine to read\n",
    "    \n",
    "    # send request and retrieve results\n",
    "    print('Retrieving', url)\n",
    "    uh = urllib.request.urlopen(url, context=ctx)\n",
    "    data = uh.read().decode() # also needs decoding\n",
    "    print('Retrieved', len(data), 'characters')\n",
    "    \n",
    "    # parsing the json results\n",
    "    try:\n",
    "        js = json.loads(data)\n",
    "    except:\n",
    "        js = None\n",
    "    \n",
    "    # if not found\n",
    "    if not js or 'status' not in js or js['status'] != 'OK':\n",
    "        print('==== Failure To Retrieve ====')\n",
    "        print(data)\n",
    "        continue\n",
    "\n",
    "    # print the result\n",
    "    print(json.dumps(js, indent=4))\n",
    "\n",
    "    lat = js['results'][0]['geometry']['location']['lat']\n",
    "    lng = js['results'][0]['geometry']['location']['lng']\n",
    "    print('lat', lat, 'lng', lng)\n",
    "    location = js['results'][0]['formatted_address']\n",
    "    print(location)\n",
    "    \n",
    "    # break the loop\n",
    "    count += 1"
   ]
  },
  {
   "cell_type": "markdown",
   "metadata": {},
   "source": [
    "##### Geocode XML  <a name='geoxml'></a>"
   ]
  },
  {
   "cell_type": "code",
   "execution_count": 2,
   "metadata": {
    "collapsed": true
   },
   "outputs": [
    {
     "name": "stdout",
     "output_type": "stream",
     "text": [
      "Retrieving http://py4e-data.dr-chuck.net/xml?address=Ann+Arbor%2C+MI&key=42\n",
      "Retrieved 1559 characters\n",
      "<?xml version=\"1.0\" encoding=\"UTF-8\"?>\n",
      "<GeocodeResponse>\n",
      " <status>OK</status>\n",
      " <result>\n",
      "  <type>locality</type>\n",
      "  <type>political</type>\n",
      "  <formatted_address>Ann Arbor, MI, USA</formatted_address>\n",
      "  <address_component>\n",
      "   <long_name>Ann Arbor</long_name>\n",
      "   <short_name>Ann Arbor</short_name>\n",
      "   <type>locality</type>\n",
      "   <type>political</type>\n",
      "  </address_component>\n",
      "  <address_component>\n",
      "   <long_name>Washtenaw County</long_name>\n",
      "   <short_name>Washtenaw County</short_name>\n",
      "   <type>administrative_area_level_2</type>\n",
      "   <type>political</type>\n",
      "  </address_component>\n",
      "  <address_component>\n",
      "   <long_name>Michigan</long_name>\n",
      "   <short_name>MI</short_name>\n",
      "   <type>administrative_area_level_1</type>\n",
      "   <type>political</type>\n",
      "  </address_component>\n",
      "  <address_component>\n",
      "   <long_name>United States</long_name>\n",
      "   <short_name>US</short_name>\n",
      "   <type>country</type>\n",
      "   <type>political</type>\n",
      "  </address_component>\n",
      "  <geometry>\n",
      "   <location>\n",
      "    <lat>42.2808256</lat>\n",
      "    <lng>-83.7430378</lng>\n",
      "   </location>\n",
      "   <location_type>APPROXIMATE</location_type>\n",
      "   <viewport>\n",
      "    <southwest>\n",
      "     <lat>42.2226680</lat>\n",
      "     <lng>-83.7995720</lng>\n",
      "    </southwest>\n",
      "    <northeast>\n",
      "     <lat>42.3239728</lat>\n",
      "     <lng>-83.6758069</lng>\n",
      "    </northeast>\n",
      "   </viewport>\n",
      "   <bounds>\n",
      "    <southwest>\n",
      "     <lat>42.2226680</lat>\n",
      "     <lng>-83.7995720</lng>\n",
      "    </southwest>\n",
      "    <northeast>\n",
      "     <lat>42.3239728</lat>\n",
      "     <lng>-83.6758069</lng>\n",
      "    </northeast>\n",
      "   </bounds>\n",
      "  </geometry>\n",
      "  <place_id>ChIJMx9D1A2wPIgR4rXIhkb5Cds</place_id>\n",
      " </result>\n",
      "</GeocodeResponse>\n",
      "\n",
      "lat 42.2808256 lng -83.7430378\n",
      "Ann Arbor, MI, USA\n"
     ]
    }
   ],
   "source": [
    "import urllib.request, urllib.parse, urllib.error\n",
    "import xml.etree.ElementTree as ET\n",
    "import ssl\n",
    "\n",
    "api_key = False\n",
    "# If you have a Google Places API key, enter it here\n",
    "# api_key = 'AIzaSy___IDByT70'\n",
    "# https://developers.google.com/maps/documentation/geocoding/intro\n",
    "\n",
    "if api_key is False:\n",
    "    api_key = 42\n",
    "    serviceurl = 'http://py4e-data.dr-chuck.net/xml?'\n",
    "else :\n",
    "    serviceurl = 'https://maps.googleapis.com/maps/api/geocode/xml?'\n",
    "\n",
    "# Ignore SSL certificate errors\n",
    "ctx = ssl.create_default_context()\n",
    "ctx.check_hostname = False\n",
    "ctx.verify_mode = ssl.CERT_NONE\n",
    "\n",
    "# my test data\n",
    "address = 'Ann Arbor, MI'\n",
    "count = 0\n",
    "\n",
    "while True:\n",
    "#     address = input('Enter location: ')\n",
    "#     if len(address) < 1: break\n",
    "\n",
    "    # customized loop breaker\n",
    "    if count > 0:\n",
    "        break\n",
    "\n",
    "    parms = dict()\n",
    "    parms['address'] = address\n",
    "    if api_key is not False: parms['key'] = api_key\n",
    "    url = serviceurl + urllib.parse.urlencode(parms)\n",
    "    print('Retrieving', url)\n",
    "    uh = urllib.request.urlopen(url, context=ctx)\n",
    "\n",
    "    data = uh.read()\n",
    "    print('Retrieved', len(data), 'characters')\n",
    "    print(data.decode()) # print the XML results\n",
    "    \n",
    "    # parsing the XML data\n",
    "    tree = ET.fromstring(data)\n",
    "\n",
    "    results = tree.findall('result')\n",
    "    lat = results[0].find('geometry').find('location').find('lat').text\n",
    "    lng = results[0].find('geometry').find('location').find('lng').text\n",
    "    location = results[0].find('formatted_address').text\n",
    "\n",
    "    print('lat', lat, 'lng', lng)\n",
    "    print(location)\n",
    "    \n",
    "    # break the loop\n",
    "    count += 1"
   ]
  },
  {
   "cell_type": "markdown",
   "metadata": {},
   "source": [
    "##### Twitter API  <a name='twitter'></a>\n",
    "\n",
    "__Not finished__. Just to show you how this is done. Tokens and keys needed to use."
   ]
  },
  {
   "cell_type": "code",
   "execution_count": 6,
   "metadata": {},
   "outputs": [
    {
     "name": "stdout",
     "output_type": "stream",
     "text": [
      "\n",
      "Enter Twitter Account:\n"
     ]
    }
   ],
   "source": [
    "# twitter2.py\n",
    "import urllib.request, urllib.parse, urllib.error\n",
    "import twurl # put your authorization here\n",
    "import json\n",
    "import ssl\n",
    "\n",
    "# https://apps.twitter.com/\n",
    "# Create App and get the four strings, put them in hidden.py\n",
    "\n",
    "TWITTER_URL = 'https://api.twitter.com/1.1/friends/list.json'\n",
    "\n",
    "# Ignore SSL certificate errors\n",
    "ctx = ssl.create_default_context()\n",
    "ctx.check_hostname = False\n",
    "ctx.verify_mode = ssl.CERT_NONE\n",
    "\n",
    "while True:\n",
    "    print('')\n",
    "    acct = input('Enter Twitter Account:')\n",
    "    if (len(acct) < 1): break\n",
    "    url = twurl.augment(TWITTER_URL,\n",
    "                        {'screen_name': acct, 'count': '5'})\n",
    "    print('Retrieving', url)\n",
    "    connection = urllib.request.urlopen(url, context=ctx)\n",
    "    data = connection.read().decode()\n",
    "\n",
    "    js = json.loads(data)\n",
    "    print(json.dumps(js, indent=2))\n",
    "\n",
    "    headers = dict(connection.getheaders())\n",
    "    print('Remaining', headers['x-rate-limit-remaining'])\n",
    "\n",
    "    for u in js['users']:\n",
    "        print(u['screen_name'])\n",
    "        if 'status' not in u:\n",
    "            print('   * No status found')\n",
    "            continue\n",
    "        s = u['status']['text']\n",
    "        print('  ', s[:50])"
   ]
  },
  {
   "cell_type": "code",
   "execution_count": 4,
   "metadata": {},
   "outputs": [],
   "source": [
    "## .  <a name=''></a>"
   ]
  }
 ],
 "metadata": {
  "kernelspec": {
   "display_name": "Python 3",
   "language": "python",
   "name": "python3"
  },
  "language_info": {
   "codemirror_mode": {
    "name": "ipython",
    "version": 3
   },
   "file_extension": ".py",
   "mimetype": "text/x-python",
   "name": "python",
   "nbconvert_exporter": "python",
   "pygments_lexer": "ipython3",
   "version": "3.7.3"
  }
 },
 "nbformat": 4,
 "nbformat_minor": 2
}
