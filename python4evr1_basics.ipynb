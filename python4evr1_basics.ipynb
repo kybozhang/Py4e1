{
 "cells": [
  {
   "cell_type": "markdown",
   "metadata": {},
   "source": [
    "# Python For Everyone (basics)\n",
    "\n",
    "## Table of Contents\n",
    "1. [Try except](#try-except)\n",
    "2. [Iterable](#iterable)\n",
    "3. [Generator](#generator)\n",
    "4. [String](#string)\n",
    "5. [File handling](#file)\n",
    "6. [List](#list)\n",
    "7. [Dictionary](#dictionary)\n",
    "8. [Tuples](#tuples)\n",
    "9. [Lambda expression](#lambda)\n",
    "10. [Jupyter shortcuts](#shortcuts)"
   ]
  },
  {
   "cell_type": "code",
   "execution_count": null,
   "metadata": {},
   "outputs": [],
   "source": []
  },
  {
   "cell_type": "markdown",
   "metadata": {},
   "source": [
    "# 1. Use try and except to do error control: <a name='try-except'></a>\n",
    "    if the operation in try: cannot work\n",
    "    then do the except: operation"
   ]
  },
  {
   "cell_type": "code",
   "execution_count": 1,
   "metadata": {},
   "outputs": [
    {
     "name": "stdout",
     "output_type": "stream",
     "text": [
      "test score:-1\n",
      "grade: Invalid input!\n"
     ]
    }
   ],
   "source": [
    "#Input with checking for x\n",
    "x =  input(\"test score:\")\n",
    "try: \n",
    "    x = int(x)\n",
    "except: \n",
    "    x = -1\n",
    "y = ['A+', 'A', 'B', 'C', 'D', 'F', 'Invalid input!']\n",
    "\n",
    "if x >=95:\n",
    "    i = 0\n",
    "elif x >= 90:\n",
    "    i = 1\n",
    "elif x >= 80:\n",
    "    i = 2\n",
    "elif x >= 70:\n",
    "    i = 3\n",
    "elif x >= 60:\n",
    "    i = 4\n",
    "elif x>=0:\n",
    "    i = 5\n",
    "else :\n",
    "    i = 6\n",
    "print ('grade: {}'.format(y[i]))"
   ]
  },
  {
   "cell_type": "markdown",
   "metadata": {},
   "source": [
    "# 2. Creating your own iterable <a name='iterable'></a>"
   ]
  },
  {
   "cell_type": "code",
   "execution_count": 35,
   "metadata": {},
   "outputs": [
    {
     "name": "stdout",
     "output_type": "stream",
     "text": [
      "w\n",
      "h\n",
      "a\n",
      "t\n",
      " \n",
      "i\n",
      "s\n",
      " \n",
      "g\n",
      "o\n",
      "i\n",
      "n\n",
      "g\n",
      " \n",
      "o\n",
      "n\n",
      "?\n"
     ]
    }
   ],
   "source": [
    "class custLoop(object):\n",
    "    #print values can be tuber, list or string\n",
    "    def __init__(self, values, start = 0):\n",
    "        self.values = values\n",
    "        self.location = start\n",
    "        #print ('in', values)\n",
    "    \n",
    "    def __iter__(self):\n",
    "        return self\n",
    "        \n",
    "    \n",
    "    def __next__(self):\n",
    "        #print('in')\n",
    "        if self.location >= len(self.values):\n",
    "            raise StopIteration\n",
    "        out = self.values[self.location]\n",
    "        self.location += 1\n",
    "        return out\n",
    "        \n",
    "        \n",
    "#inp = (5,6,9)\n",
    "#inp = ['see', 'if', 'list', 'works']\n",
    "inp = 'what is going on?'\n",
    "x = custLoop(inp)\n",
    "\n",
    "for i in x:\n",
    "    print (i)\n"
   ]
  },
  {
   "cell_type": "markdown",
   "metadata": {},
   "source": [
    "## 2b. Interator class example"
   ]
  },
  {
   "cell_type": "code",
   "execution_count": 25,
   "metadata": {},
   "outputs": [
    {
     "name": "stdout",
     "output_type": "stream",
     "text": [
      "3\n",
      "4\n",
      "5\n",
      "6\n",
      "7\n",
      "8\n",
      "9\n",
      "10\n",
      "11\n"
     ]
    }
   ],
   "source": [
    "class Count(object):\n",
    "\n",
    "    \"\"\"Iterator that counts upward forever.\"\"\"\n",
    "#initialize the start and end\n",
    "#only this is allowd to input variables?\n",
    "    def __init__(self, start=0, limit = 10):\n",
    "        self.num = start\n",
    "        self.lim = limit\n",
    "        #self.limit = limit\n",
    "#iterator (an object carrying interation) is an interable with itself as an interator\n",
    "    def __iter__(self):\n",
    "        return self\n",
    "\n",
    "    def __next__(self):\n",
    "        if self.num >= self.lim:\n",
    "            raise StopIteration\n",
    "        num = self.num\n",
    "        self.num += 1\n",
    "        return num\n",
    "\n",
    "x = Count(3, 12)\n",
    "\n",
    "for n in x:\n",
    "    print(n)\n"
   ]
  },
  {
   "cell_type": "markdown",
   "metadata": {},
   "source": [
    "# 3. Working with generator, a specialized function using yield <a name='generator'></a>\n",
    "   and also a type of iterator."
   ]
  },
  {
   "cell_type": "code",
   "execution_count": 41,
   "metadata": {},
   "outputs": [
    {
     "name": "stdout",
     "output_type": "stream",
     "text": [
      "<class 'generator'>\n",
      "this is wrong\n",
      "9\n",
      "36\n",
      "this is wrong\n",
      "441\n",
      "9\n"
     ]
    }
   ],
   "source": [
    "def numSq(values, start = 0):\n",
    "    for n in values:\n",
    "        if n < 52:\n",
    "            yield n**2\n",
    "        else:\n",
    "            yield('this is wrong')\n",
    "\n",
    "#inp = [3, 21, 99, 6, 52, -3]\n",
    "inp = {3, 21, 99, 6, 52, -3}\n",
    "#also works on library\n",
    "x = numSq(inp)\n",
    "\n",
    "print(type(x))\n",
    "for i in x:\n",
    "    print (i)"
   ]
  },
  {
   "cell_type": "markdown",
   "metadata": {},
   "source": [
    "# 4. a list of string operation <a name='string'></a>"
   ]
  },
  {
   "cell_type": "code",
   "execution_count": 100,
   "metadata": {},
   "outputs": [
    {
     "name": "stdout",
     "output_type": "stream",
     "text": [
      "This is\n",
      "s is aN e\n",
      "OrangeJuice \n",
      " Orange Juice\n",
      "False\n",
      "True\n",
      "What a day::What a day::What a day::\n",
      "Juice > Orange False\n",
      "OrangeJuice > Orange Juice True\n",
      "JUice < Juice True\n",
      "string '1' < 'A' True\n",
      "spece ' ' < string '1' True\n",
      "symbol ',' > string '0' False\n",
      "symbol '?' > string '9' True\n",
      "symbol '?' > string 'A' False\n",
      "symbol '.' < string '0' True\n"
     ]
    }
   ],
   "source": [
    "a = 'This is aN exAmpLe inpUt!'\n",
    "\n",
    "#slicing thru strings\n",
    "print(a[:7])\n",
    "#the index is left inclusive (>=) but not right inclusive (<)\n",
    "print(a[3:12])\n",
    "# CAUTION: the index is left inclusive (>=) but left srat with 0\n",
    "\n",
    "#string operator: concatenate & in\n",
    "b = 'Orange'\n",
    "c = 'Juice'\n",
    "x = b+c\n",
    "y = b +' ' +c\n",
    "print(x,'\\n',y)\n",
    "print ('e J' in x)\n",
    "print ('e J' in y)\n",
    "\n",
    "#repetition\n",
    "print ('What a day::'*3)\n",
    "\n",
    "#string comparison operator\n",
    "print(c, '>', b, c > b)\n",
    "print(x, '>', y, x > y)\n",
    "#spece < lettter\n",
    "print('JUice <', c, 'JUice' < c)\n",
    "# A-Z < a-z (lower case > upper case)\n",
    "print('string \\'1\\' < \\'A\\'', '1' < 'A')\n",
    "#digital character < letter\n",
    "print('spece \\' \\' < string \\'1\\'', '   ' < '1')\n",
    "#space < digital character (no matter how many repeat)\n",
    "print('symbol \\',\\' > string \\'0\\'', ',' > '0')\n",
    "print('symbol \\'?\\' > string \\'9\\'', '?' > '9')\n",
    "print('symbol \\'?\\' > string \\'A\\'', '?' > 'A')\n",
    "#symbols seem to range in ' ' and 'a', some larger than digits, others not\n",
    "print('symbol \\'.\\' < string \\'0\\'', '.' < '0')"
   ]
  },
  {
   "cell_type": "markdown",
   "metadata": {},
   "source": [
    "## 4b. string library"
   ]
  },
  {
   "cell_type": "code",
   "execution_count": 97,
   "metadata": {},
   "outputs": [
    {
     "name": "stdout",
     "output_type": "stream",
     "text": [
      "This is aN exAmpLe inpUt! \n",
      " this is an example input!\n",
      "This is an example input!\n",
      "'is' starts at 2 position\n",
      "'is' at 5 position after pos 3\n",
      "Th15 15 aN exAmpLe inpUt!\n",
      " \t  A good day!   \n",
      " A good day!   \n",
      "  \t  A good day! A good day!\n",
      "This is aN exAmpLe inpUt! \n",
      " ? start with Th?: True\n"
     ]
    }
   ],
   "source": [
    "#case change\n",
    "print(a,'\\n', a.lower())\n",
    "print(a.capitalize())\n",
    "\n",
    "#find: like in, but returns the first position 'Th>is< ...'\n",
    "print('\\'is\\' starts at {} position'.format(a.find('is')))\n",
    "#find('target', start-pos)\n",
    "print('\\'is\\' at {} position after pos 3'.format(a.find('is', 3)))\n",
    "\n",
    "#search and replace (default: replace all)\n",
    "print(a.replace('is', '15'))\n",
    "\n",
    "#strip the left, right or two-end white space (including \\t and \\n)\n",
    "test = ' \\t  A good day!   \\n'\n",
    "print(test, test.lstrip(), test.rstrip(), test.strip())\n",
    "\n",
    "#startswith\n",
    "print(a, '\\n ? start with Th?:', a.startswith('Th'))"
   ]
  },
  {
   "cell_type": "markdown",
   "metadata": {},
   "source": [
    "# *Jupyter shortcuts <a name='shortcuts'></a>\n",
    "\n",
    "- Ctrl+ shift + P command list by name\n",
    "### Esc command mode\n",
    "- A / B insert cell above/below\n",
    "- M / Y change cell to note/code type\n",
    "- D+D double D is delete cell\n",
    "- shift + J or down = selecting multiple cells below\n",
    "- shift + D or uo = selecting multiple cells above\n",
    "- shfit + tab  go to the bottom cell\n",
    "- shift + M merging multiple cells\n",
    "in this mode you can copy and paste cells\n",
    "\n",
    "### Enter return coding mode\n",
    "- Shift + Enter to excecute (run) scripts\n",
    "- Esc + F  search/replace in current code cell but not output\n",
    "- Esc + O toggle cell putput\n",
    "- Ctrl + shift + -   split cell in two at current cursor position\n",
    "- You can shell in a coding cell\n",
    "- You can use LaTex formula in a note cell"
   ]
  },
  {
   "cell_type": "code",
   "execution_count": 1,
   "metadata": {},
   "outputs": [
    {
     "name": "stdout",
     "output_type": "stream",
     "text": [
      " Volume in drive C is OS\n",
      " Volume Serial Number is 1C8E-956B\n",
      "\n",
      " Directory of C:\\Users\\Kaibo\\Jupyter\n",
      "\n",
      "06/04/2019  08:52 PM    <DIR>          .\n",
      "06/04/2019  08:52 PM    <DIR>          ..\n",
      "06/04/2019  12:18 AM    <DIR>          .ipynb_checkpoints\n",
      "05/06/2019  10:40 AM             7,407 compiled.ipynb\n",
      "06/04/2019  08:49 PM         6,687,002 mbox.txt\n",
      "05/06/2019  03:17 PM    <DIR>          NYPD\n",
      "06/04/2019  08:52 PM            10,616 python4evr1.ipynb\n",
      "06/04/2019  12:20 AM    <DIR>          Wildfire\n",
      "06/04/2019  12:20 AM    <DIR>          Wildfire2\n",
      "               3 File(s)      6,705,025 bytes\n",
      "               6 Dir(s)  24,752,775,168 bytes free\n"
     ]
    }
   ],
   "source": [
    "ls"
   ]
  },
  {
   "cell_type": "markdown",
   "metadata": {},
   "source": [
    "# 5. file handling <a name='file'></a>"
   ]
  },
  {
   "cell_type": "code",
   "execution_count": 25,
   "metadata": {},
   "outputs": [
    {
     "name": "stdout",
     "output_type": "stream",
     "text": [
      "<class '_io.TextIOWrapper'>\n",
      "From stephen.marquar\n",
      "From: zqian@umich.edu\n",
      "From: zqian@umich.edu\n",
      "From: gsilver@umich.edu\n",
      "From: gsilver@umich.edu\n",
      "From: zqian@umich.edu\n"
     ]
    }
   ],
   "source": [
    "# open file handle (iterator/sequence of strings/lines), set the mode to 'r' = read only\n",
    "fh = open('mbox.txt', 'r')\n",
    "print(type(fh))\n",
    "\n",
    "# newline '\\n' is counted as one character\n",
    "# use for loop to print the whole file or use .read() to cache the whole file as one single string\n",
    "temp = fh.read()\n",
    "print(temp[:20])\n",
    "del temp\n",
    "# just clear the space\n",
    "\n",
    "count = 0\n",
    "#it seems one file handle can only be .read() one time\n",
    "#so I open the fine again\n",
    "fh = open('mbox.txt', 'r')\n",
    "#serach file\n",
    "for i in fh: \n",
    "    #'bool' object is not iterable so I can't stick the count in here\n",
    "    if count >= 5:\n",
    "        break\n",
    "    if i.startswith('From:'):\n",
    "        if 'umich.edu' not in i:\n",
    "            continue\n",
    "        #cause the file itself contains '\\n', so I turned off '\\n' for print \n",
    "        #(flush the buffer to avoid overflow - if the line is too long for print)\n",
    "        print(i, end='',flush=True)\n",
    "        count += 1\n",
    "        \n",
    "# can use try: except: to do input control\n",
    "# can also use quit() if doesn't get the desired input"
   ]
  },
  {
   "cell_type": "markdown",
   "metadata": {},
   "source": [
    "# 6. List <a name='list'></a>\n",
    "In python, list can contain mixed types of variables;\n",
    "List can also contain sub-lists;\n",
    "Empty list x = []  ...\n",
    "\n",
    "List is indexed and mutable\n",
    "#strings are not mutable and you have to use replace()\n",
    "\n",
    "## operations\n",
    "+ concatenate\n",
    "* duplicate\n",
    "- [i:j] slicing the list\n",
    "\n",
    "\n",
    "## list library\n",
    "- list() - create / convert a list\n",
    "- len() - length of the list\n",
    "- range() - upto but not include\n",
    "* __append() -  end of the list__\n",
    "* __extend() - Add Elements of a List to Another List__\n",
    "- insert()/ pop() - Adds/removes an element at the specified position\n",
    "* __sort() - sort the elements in the lsit (changes the index)__\n",
    "* __sorted() - return a sorted version of the list (original index is intact)__\n",
    "* __max() / min() / > sum() <- only works on number__\n",
    "- count() - Returns the number of elements with the specified value\n",
    "- index()\t- Returns the index of the first element with the specified value\n",
    "- remove() - Removes the first item with the specified value\n",
    "* __filter() - constructs iterator from elements which are true__\n",
    "\n",
    "type() / dir() / etc.\n"
   ]
  },
  {
   "cell_type": "code",
   "execution_count": 81,
   "metadata": {},
   "outputs": [
    {
     "name": "stdout",
     "output_type": "stream",
     "text": [
      "0 A+ A\n",
      "1 A A+\n",
      "2 B B\n",
      "3 C C\n",
      "4 D D\n",
      "5 F F\n",
      "6 insert insert\n",
      "7 new entry new entry\n",
      "['A+', 'A', 'B', 'C', 'D', 'F', 'insert', 'new entry']\n",
      "stephen.marquard@uct.ac.za\n"
     ]
    }
   ],
   "source": [
    "# iterate thru the list by index (can be used to get the index of an item)\n",
    "y = ['A+', 'A', 'B', 'C', 'D', 'F', 'Invalid input!']\n",
    "y.append('new entry')\n",
    "#append() takes exactly one argument\n",
    "y.insert(7,'insert')\n",
    "# insert (position, input)\n",
    "y.pop(6)\n",
    "# add new entry and pop out (can be a specific position)\n",
    "\n",
    "x = list(y)\n",
    "# I can store a unsorted version of my list this way\n",
    "y.sort()\n",
    "\n",
    "for i in range(len(x)):\n",
    "    # a counted loop\n",
    "    print(i, x[i], y[i])\n",
    "print(x)\n",
    "#two ways of printing list\n",
    "\n",
    "fh = open('mbox.txt', 'r')\n",
    "count = 0\n",
    "for i in fh:\n",
    "    if count > 0:\n",
    "        break\n",
    "    line = i.split()\n",
    "    # split the string by (delimiter, number limit) default by ' ' \n",
    "    count += 1\n",
    "\n",
    "for i in line:\n",
    "    if '@' in i:\n",
    "        print(i)\n",
    "        "
   ]
  },
  {
   "cell_type": "markdown",
   "metadata": {},
   "source": [
    "# 7. Dictionary <a name='dictionary'></a>\n",
    "\n",
    "## 7a set\n",
    "Set {} is a unordered (no index) / mutable data structure\n",
    "When used with a key : value mapping structure, it is called a dictionary\n",
    "Or in other language:\n",
    "Associative array (PHP) / Map or Hashmap (Java)\n",
    "\n",
    "##### set cannot have duplication of elements/items\n",
    "\n",
    "\n",
    "### operations\n",
    "- temp = dict()\n",
    "- temp['key'] = value - add item into dictionary\n",
    "\n",
    "\n",
    "### Set library\n",
    "- set() - create / convert a set {}\n",
    "* __add() -  end of the list__\n",
    "* __difference() - Returns a set containing the difference between two or more sets == A - A^B__\n",
    "- difference_update() - >>Removes<< the items in this set that are also included in another, specified set\n",
    "- discard() - Removes the specified element (WON'T trace back if element doesn't exsit)\n",
    "* __intersection()- Returns a set, that is the intersection of two other sets == A^B__\n",
    "- intersection_update() - >>Removes<< the items in this set that are not present in other, specified set(s)\n",
    "* __isdisjoint() - Returns whether two sets have a intersection or not__\n",
    "* __issubset() - Returns whether another set contains this set or not__\n",
    "- issuperset() - Returns whether this set contains another set or not\n",
    "- pop() - Removes a >>RANDOM<< element from the set\n",
    "* __remove() - Removes the specified element (trace back if element doesn't exsit)__\n",
    "- symmetric_difference() - Returns a set with the symmetric differences of two sets == AUB - A^B\n",
    "- symmetric_difference_update() - inserts the symmetric differences from this set and another\n",
    "* __union() - Return a set containing the union of sets__\n",
    "- update() - Update the set with the union of this set and others == AUB"
   ]
  },
  {
   "cell_type": "code",
   "execution_count": 84,
   "metadata": {},
   "outputs": [
    {
     "name": "stdout",
     "output_type": "stream",
     "text": [
      "{'uct.ac.za': 192, 'media.berkeley.edu': 112, 'umich.edu': 982, 'iupui.edu': 1072, 'caret.cam.ac.uk': 314, 'gmail.com': 50, 'indiana.edu': 356, 'et.gatech.edu': 34, 'vt.edu': 220, 'lancaster.ac.uk': 28, 'ucdavis.edu': 2, 'ufp.pt': 56, 'txstate.edu': 34, 'stanford.edu': 24, 'whitman.edu': 34, 'rsmart.com': 16, 'fhda.edu': 2, 'bu.edu': 28, 'unicon.net': 18, 'loi.nl': 18, 'utoronto.ca': 2}\n",
      "uct.ac.za 192\n",
      "media.berkeley.edu 112\n",
      "umich.edu 982\n",
      "iupui.edu 1072\n",
      "caret.cam.ac.uk 314\n",
      "gmail.com 50\n",
      "indiana.edu 356\n",
      "et.gatech.edu 34\n",
      "vt.edu 220\n",
      "lancaster.ac.uk 28\n",
      "ucdavis.edu 2\n",
      "ufp.pt 56\n",
      "txstate.edu 34\n",
      "stanford.edu 24\n",
      "whitman.edu 34\n",
      "rsmart.com 16\n",
      "fhda.edu 2\n",
      "bu.edu 28\n",
      "unicon.net 18\n",
      "loi.nl 18\n",
      "utoronto.ca 2\n"
     ]
    }
   ],
   "source": [
    "fh = open('mbox.txt', 'r')\n",
    "\n",
    "address = dict()\n",
    "#print(address)\n",
    "for i in fh:\n",
    "    if i.startswith('From'):\n",
    "        # incoming email\n",
    "        x = i.split()\n",
    "        for j in x:\n",
    "            if '@' in j:\n",
    "                y = j.split('@')\n",
    "                #print(y[1], type(y[1]))\n",
    "                # find all the incoming email address and extract the organization\n",
    "                if y[1] not in address:\n",
    "    #ATTENTION: the key of the dictionary are in []\n",
    "                    address[y[1]] = 1\n",
    "                else:\n",
    "                    address[y[1]] += 1\n",
    "# two ways of printing a dictionary\n",
    "print(address)\n",
    "for i in address:\n",
    "    # i is key for dictionary (key is the iterator of the dictionary)\n",
    "    print(i, address[i])"
   ]
  },
  {
   "cell_type": "markdown",
   "metadata": {},
   "source": [
    "## 7b. Dictionary continue\n",
    "##### Dictionary cannot have duplication of keys\n",
    "\n",
    "### Dict library\n",
    "- dict() - create / convert a dictionary {key : value}\n",
    "* __get(key, default value) - get the item with the key in the dict; if failed, create the item and assigne the default value__\n",
    "- fromkeys()\t- Returns a dictionary with the specified keys and values\n",
    "- items()\t- Returns a list containing a tuple for each key value pair\n",
    "- keys()\t- Returns a list containing the dictionary's keys\n",
    "* __pop()\t- Removes the element with the specified key__\n",
    "- popitem()\tRemoves the last inserted key-value pair\n",
    "- setdefault() == get() ?? -  Returns the value of the specified key. If the key does not exist: insert the key, with the specified value\n",
    "* __update({key : value}) - Updates the dictionary with the specified key-value pairs__\n",
    "- values() - Returns a list of all the values in the dictionary\n",
    "\n",
    "type() / dir() / etc."
   ]
  },
  {
   "cell_type": "code",
   "execution_count": 90,
   "metadata": {},
   "outputs": [
    {
     "name": "stdout",
     "output_type": "stream",
     "text": [
      "{'collab.sakaiproject.org': 1797}\n",
      "dict_keys(['collab.sakaiproject.org']) dict_values([1797])\n",
      "dict_items([('collab.sakaiproject.org', 1797)])\n",
      "collab.sakaiproject.org == 1797\n"
     ]
    }
   ],
   "source": [
    "fh = open('mbox.txt', 'r')\n",
    "\n",
    "address = dict()\n",
    "#print(address)\n",
    "for i in fh:\n",
    "    if i.startswith('To'):\n",
    "        # this time recipient\n",
    "        x = i.split()\n",
    "        for j in x:\n",
    "            if '@' in j:\n",
    "                y = j.split('@')\n",
    "                # if the y[i] is not in, create the key, assign value 0 then count +1\n",
    "                address[y[1]] = address.get(y[1], 0) + 1\n",
    "            \n",
    "\n",
    "print(address)\n",
    "# print only keys or values (should be in corresponding order)\n",
    "print(address.keys(), address.values())\n",
    "# print items (return a tuple)\n",
    "print(address.items())\n",
    "\n",
    "#python can unpack a tuple and use both for For-loop\n",
    "for k, v in address.items():\n",
    "    print(k, '==', v)"
   ]
  },
  {
   "cell_type": "markdown",
   "metadata": {},
   "source": [
    "### Rename a key in a dictionarym"
   ]
  },
  {
   "cell_type": "code",
   "execution_count": null,
   "metadata": {},
   "outputs": [],
   "source": [
    "# Rename a key in a dictionarym\n",
    "\n",
    "dictionary[new_key] = dictionary[old_key]\n",
    "del dictionary[old_key]\n",
    "\n",
    "dictionary[new_key] = dictionary.pop(old_key)"
   ]
  },
  {
   "cell_type": "markdown",
   "metadata": {},
   "source": [
    "# 8. Tuples <a name='tuples'></a>\n",
    "Tuples are objects that's ordered but immutable  \n",
    "which means you cannot append, sort, reverse\n",
    "\n",
    "## Tuple library\n",
    "- count() - Returns the number of times a specified value occurs in a tuple\n",
    "- index() - Searches the tuple for a specified value and returns the position of where it was found\n",
    "- max() / min()/ sum() if you are dealing with numbers\n",
    "\n",
    "## Tuple tricks\n",
    "- a. tuple assignment:  \n",
    "    `x, y, z = 3, 5, 7`  #can be used to unpack tupled return values\n",
    "\n",
    "- b. tuple comparison:  \n",
    "    `(0, 3, 17) < (0, 5, 3)`\n",
    "    == True  # tuple campares pairwise from left to right just like strings\n",
    "\n",
    "- c. Thus a list of tuples can be sorted!!"
   ]
  },
  {
   "cell_type": "code",
   "execution_count": 101,
   "metadata": {},
   "outputs": [
    {
     "name": "stdout",
     "output_type": "stream",
     "text": [
      "iupui.edu : 1072\n",
      "umich.edu : 982\n",
      "indiana.edu : 356\n",
      "caret.cam.ac.uk : 314\n",
      "vt.edu : 220\n",
      "uct.ac.za : 192\n",
      "media.berkeley.edu : 112\n",
      "ufp.pt : 56\n",
      "gmail.com : 50\n",
      "whitman.edu : 34\n",
      "Max == (1072, 'iupui.edu')\n"
     ]
    }
   ],
   "source": [
    "fh = open('mbox.txt', 'r')\n",
    "\n",
    "address = dict()\n",
    "#print(address)\n",
    "for i in fh:\n",
    "    if i.startswith('From'):\n",
    "        # incoming email\n",
    "        x = i.split()\n",
    "        for j in x:\n",
    "            if '@' in j:\n",
    "                y = j.split('@')\n",
    "                #print(y[1], type(y[1]))\n",
    "                # find all the incoming email address and extract the organization\n",
    "                if y[1] not in address:\n",
    "    #ATTENTION: the key of the dictionary are in []\n",
    "                    address[y[1]] = 1\n",
    "                else:\n",
    "                    address[y[1]] += 1\n",
    "\n",
    "# try to unpack the item list\n",
    "temp = list()\n",
    "for k, v in address.items():\n",
    "    # reverse the tuple so value is first \n",
    "    temp.append((v, k))\n",
    "\n",
    "# now we can sort by value (reverse -> descending)\n",
    "out = sorted(temp, reverse = True)\n",
    "# or you can just use >> temp.sort()\n",
    "# noew slice the top 10 results and print in key : value format\n",
    "for v, k in out[:10]:\n",
    "    print(k, ':', v)\n",
    "# or simply find the max\n",
    "print('Max ==', max(temp))"
   ]
  },
  {
   "cell_type": "markdown",
   "metadata": {},
   "source": [
    "## use list comprehension to shorten the code"
   ]
  },
  {
   "cell_type": "code",
   "execution_count": 2,
   "metadata": {},
   "outputs": [
    {
     "name": "stdout",
     "output_type": "stream",
     "text": [
      "[('iupui.edu', 1072), ('umich.edu', 982), ('indiana.edu', 356), ('caret.cam.ac.uk', 314), ('vt.edu', 220), ('uct.ac.za', 192), ('media.berkeley.edu', 112), ('ufp.pt', 56), ('gmail.com', 50), ('whitman.edu', 34)]\n",
      "iupui.edu 1072\n"
     ]
    }
   ],
   "source": [
    "fh = open('mbox.txt', 'r')\n",
    "\n",
    "address = dict()\n",
    "#print(address)\n",
    "for i in fh:\n",
    "    if i.startswith('From'):\n",
    "        # incoming email\n",
    "        x = i.split()\n",
    "        for j in x:\n",
    "            if '@' in j:\n",
    "                y = j.split('@')\n",
    "                # if the y[i] is not in, create the key, assign value 0 then count +1\n",
    "                address[y[1]] = address.get(y[1], 0) + 1\n",
    "\n",
    "# Do value sorting and print in key : value format\n",
    "# simplified using list comprehension\n",
    "temp = sorted([(v, k) for k, v in address.items()], reverse = True)\n",
    "print([(k, v) for v, k in temp[:10]])\n",
    "# if I dont't use tuple/list (or maybe any collction) in print it won't work (syntax error)\n",
    "print(temp[0][1], temp[0][0])\n",
    "# acess by double index"
   ]
  },
  {
   "cell_type": "markdown",
   "metadata": {},
   "source": [
    "## 9. Lambda expression <a name='lambda'></a>\n",
    "syntax:  \n",
    "`lambda <a tuple of input variables> : <a single espression to return>`  \n",
    "    equivalent to  \n",
    "`def <anonymous function>(a tuple of input variables):  \n",
    "    return(<a single espression to return>>)`  \n",
    "It is one type of anomynous function that can be used as parametric regulators of the function."
   ]
  },
  {
   "cell_type": "code",
   "execution_count": 16,
   "metadata": {},
   "outputs": [
    {
     "name": "stdout",
     "output_type": "stream",
     "text": [
      "28\n",
      "12\n",
      "Sort by first name:\n",
      "['Adelaida Dulac', 'Ayako S. Fisk', 'Berneice Holford', 'Lory Venturi', 'Maisha M. Barksdale', 'Moshe Giambrone', 'Raul R. Schweitzer', 'Samira V. Brehm', 'Tamica Barthel', 'Tomoko D. Knabe']\n",
      "\n",
      " Original (input):\n",
      "['Lory Venturi', 'Samira V. Brehm', 'Tamica Barthel', 'Ayako S. Fisk', 'Moshe Giambrone', 'Adelaida Dulac', 'Berneice Holford', 'Tomoko D. Knabe', 'Raul R. Schweitzer', 'Maisha M. Barksdale']\n",
      "Tenp sorted by last name:\n",
      "['Maisha M. Barksdale', 'Tamica Barthel', 'Samira V. Brehm', 'Adelaida Dulac', 'Ayako S. Fisk', 'Moshe Giambrone', 'Berneice Holford', 'Tomoko D. Knabe', 'Raul R. Schweitzer', 'Lory Venturi']\n",
      "Y sorted by last name:\n",
      "['Maisha M. Barksdale', 'Tamica Barthel', 'Samira V. Brehm', 'Adelaida Dulac', 'Ayako S. Fisk', 'Moshe Giambrone', 'Berneice Holford', 'Tomoko D. Knabe', 'Raul R. Schweitzer', 'Lory Venturi']\n"
     ]
    }
   ],
   "source": [
    "# simple usage:\n",
    "f = lambda x: 2*x**2 + 3*x +1\n",
    "print(f(3))\n",
    "\n",
    "# use as parametric/additional input of a function:\n",
    "def quadraticEx(a, b, c):\n",
    "    return(lambda x: a*x**2 + b*x + c)\n",
    "f = quadraticEx(3, 1, -2)\n",
    "print(f(2))\n",
    "\n",
    "# used to extract (sub-)element for sorting/ etc...\n",
    "temp = ['Lory Venturi','Samira V. Brehm','Tamica Barthel','Ayako S. Fisk','Moshe Giambrone',\n",
    "        'Adelaida Dulac','Berneice Holford','Tomoko D. Knabe','Raul R. Schweitzer','Maisha M. Barksdale']\n",
    "\n",
    "print('Sort by first name:')\n",
    "print(sorted(temp))\n",
    "# sorted(list, key = None, reverse = False)\n",
    "y = sorted(temp, key=(lambda name: name.split(' ')[-1].lower()))\n",
    "print('\\n Original (input):')\n",
    "print(temp)\n",
    "\n",
    "# .sort(key = None, reverse = False)\n",
    "temp.sort(key=lambda name: name.split(' ')[-1].lower())\n",
    "#[-1] means the last item in the list\n",
    "print('Tenp sorted by last name:')\n",
    "print(temp)\n",
    "# y = temp # this will work, so it's because .sort() doesn't return an output list\n",
    "print('Y sorted by last name:')\n",
    "print(y)\n",
    "# weirdly, linking the sorted list to an variable doesn't seem to work\n",
    "# it could be that .sort() doesn't actually return an output"
   ]
  },
  {
   "cell_type": "code",
   "execution_count": null,
   "metadata": {},
   "outputs": [],
   "source": []
  }
 ],
 "metadata": {
  "kernelspec": {
   "display_name": "Python 3",
   "language": "python",
   "name": "python3"
  },
  "language_info": {
   "codemirror_mode": {
    "name": "ipython",
    "version": 3
   },
   "file_extension": ".py",
   "mimetype": "text/x-python",
   "name": "python",
   "nbconvert_exporter": "python",
   "pygments_lexer": "ipython3",
   "version": "3.7.3"
  }
 },
 "nbformat": 4,
 "nbformat_minor": 2
}
